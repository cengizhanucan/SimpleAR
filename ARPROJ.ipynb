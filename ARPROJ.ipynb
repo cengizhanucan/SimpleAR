{
 "cells": [
  {
   "cell_type": "markdown",
   "metadata": {},
   "source": [
    "### Computer Vision Project 1: Detecting Of Aruco Markers And Placing Images Over Them"
   ]
  },
  {
   "cell_type": "markdown",
   "metadata": {},
   "source": [
    "#### 1- Initializion of Libraries."
   ]
  },
  {
   "cell_type": "code",
   "execution_count": 2,
   "metadata": {},
   "outputs": [],
   "source": [
    "import os\n",
    "import cv2\n",
    "import numpy as np\n",
    "import cv2.aruco as aruco"
   ]
  },
  {
   "cell_type": "markdown",
   "metadata": {},
   "source": [
    "#### 2-Initializion of Directories and Parameters."
   ]
  },
  {
   "cell_type": "code",
   "execution_count": 30,
   "metadata": {},
   "outputs": [],
   "source": [
    "images_dir = \"images\"\n",
    "output_dir = \"informationimages\"\n",
    "final_output_dir = \"finalimages\"\n",
    "overlay_img_path = \"image.jpg\" \n",
    "\n",
    "# List of dictionaries to try for detection\n",
    "aruco_dicts = [\n",
    "    cv2.aruco.DICT_4X4_50,\n",
    "    cv2.aruco.DICT_4X4_100,\n",
    "    cv2.aruco.DICT_4X4_250,\n",
    "    cv2.aruco.DICT_4X4_1000,\n",
    "    cv2.aruco.DICT_5X5_50,\n",
    "    cv2.aruco.DICT_5X5_100,\n",
    "    cv2.aruco.DICT_5X5_250,\n",
    "    cv2.aruco.DICT_5X5_1000,\n",
    "    cv2.aruco.DICT_6X6_50,\n",
    "    cv2.aruco.DICT_6X6_100,\n",
    "    cv2.aruco.DICT_6X6_250,\n",
    "    cv2.aruco.DICT_6X6_1000,\n",
    "    cv2.aruco.DICT_7X7_50,\n",
    "    cv2.aruco.DICT_7X7_100,\n",
    "    cv2.aruco.DICT_7X7_250,\n",
    "    cv2.aruco.DICT_7X7_1000,\n",
    "    cv2.aruco.DICT_ARUCO_ORIGINAL,\n",
    "    cv2.aruco.DICT_APRILTAG_16h5,\n",
    "    cv2.aruco.DICT_APRILTAG_25h9,\n",
    "    cv2.aruco.DICT_APRILTAG_36h10,\n",
    "    cv2.aruco.DICT_APRILTAG_36h11,\n",
    "    cv2.aruco.DICT_ARUCO_MIP_36h12\n",
    "]\n",
    "#initialize the output paths if they dont exist:\n",
    "if not os.path.exists(output_dir):\n",
    "    os.makedirs(output_dir)\n",
    "if not os.path.exists(final_output_dir):\n",
    "    os.makedirs(final_output_dir)\n"
   ]
  },
  {
   "cell_type": "markdown",
   "metadata": {},
   "source": [
    "#### 3- Main algortihm, containing detection, marking and overlaying of the image."
   ]
  },
  {
   "cell_type": "code",
   "execution_count": 31,
   "metadata": {},
   "outputs": [],
   "source": [
    "# Read the overlay image\n",
    "overlay_img = cv2.imread(overlay_img_path)\n",
    "\n",
    "# Iterate over each image\n",
    "for img_name in os.listdir(images_dir):\n",
    "    img_path = os.path.join(images_dir, img_name)\n",
    "    img = cv2.imread(img_path)\n",
    "    gray = cv2.cvtColor(img, cv2.COLOR_BGR2RGB)\n",
    "\n",
    "    # Flag to track if markers are found\n",
    "    markers_found = False\n",
    "    \n",
    "    # Iterate over each dictionary for detection\n",
    "    for aruco_dict_id in aruco_dicts:\n",
    "        aruco_dict = cv2.aruco.getPredefinedDictionary(aruco_dict_id)\n",
    "        #initialize the ArUco Parameters.\n",
    "        parameters = cv2.aruco.DetectorParameters()\n",
    "        detector = cv2.aruco.ArucoDetector(aruco_dict,parameters)\n",
    "        # Detect markers using the current dictionary\n",
    "        corners, ids, _ = detector.detectMarkers(gray)\n",
    "        \n",
    "        # If markers are found, proceed with further processing\n",
    "        if ids is not None:\n",
    "            markers_found = True\n",
    "            break  # Exit the loop if markers are found\n",
    "        \n",
    "    if markers_found:\n",
    "        for j in range(len(ids)):\n",
    "            # Calculate the center coordinates, other coordinates, and angles\n",
    "            c = corners[j][0]\n",
    "            x_center = int(c[:, 0].mean())\n",
    "            y_center = int(c[:, 1].mean())\n",
    "            x_min, y_min = np.min(c, axis=0)\n",
    "            x_max, y_max = np.max(c, axis=0)\n",
    "            angle = cv2.minAreaRect(c)[-1]\n",
    "\n",
    "            # Write these corner, center, and angle values on the top left corner of the image\n",
    "            cv2.putText(img, f\"ID: {img_name}\", (10, 50), cv2.FONT_HERSHEY_SIMPLEX, 2, (0, 255, 0), 2)\n",
    "            cv2.putText(img, f\"Center: ({x_center}, {y_center})\", (10, 120), cv2.FONT_HERSHEY_SIMPLEX, 2, (0, 255, 0), 2)\n",
    "            cv2.putText(img, f\"Box: ({x_min}, {y_min}), ({x_max}, {y_min}), ({x_max}, {y_max}), ({x_min}, {y_max})\", \n",
    "                        (10, 190), cv2.FONT_HERSHEY_SIMPLEX, 2, (0, 255, 0), 2)\n",
    "            cv2.putText(img, f\"Angle: {angle:.2f} degrees\", (10, 260), cv2.FONT_HERSHEY_SIMPLEX, 2, (0, 255, 0), 2)\n",
    "            img_with_markers = cv2.aruco.drawDetectedMarkers(img.copy(), corners, ids, borderColor=(0, 255, 0))\n",
    "            cv2.imwrite(os.path.join(output_dir, f\"marked_{img_name}\"), img_with_markers)\n",
    "\n",
    "            # Get the overlay image, resize it and put it over the marker using the perspective operations\n",
    "            overlay_img_resized = cv2.resize(overlay_img, (int(np.linalg.norm(c[0] - c[1])), int(np.linalg.norm(c[0] - c[3]))))\n",
    "            pts_dst = np.array([[0, 0],                                           #Top-left corner\n",
    "            [overlay_img_resized.shape[1] - 1, 0],                                #Top-right corner\n",
    "            [overlay_img_resized.shape[1] - 1, overlay_img_resized.shape[0] - 1], #Bottom-right corner\n",
    "            [0, overlay_img_resized.shape[0] - 1]], dtype=np.float32)             #Bottom-left corner\n",
    "\n",
    "            perspective_matrix, _ = cv2.findHomography(pts_dst, c)\n",
    "            overlay_img_warped = cv2.warpPerspective(overlay_img_resized, perspective_matrix, (img.shape[1], img.shape[0]))\n",
    "            \n",
    "            # Create, invert and convert the mask of overlay and the original image\n",
    "            mask = np.zeros_like(img)\n",
    "            cv2.fillPoly(mask, [np.int32(c)], (255, 255, 255))\n",
    "            mask_inv = cv2.bitwise_not(mask)\n",
    "            img_with_overlay = cv2.bitwise_and(img, mask_inv)\n",
    "            img_with_overlay += overlay_img_warped\n",
    "            \n",
    "            # Save the final image\n",
    "            cv2.imwrite(os.path.join(final_output_dir, f\"overlay_{img_name}\"), img_with_overlay)    \n",
    "    else:\n",
    "        # Annotate the fact that there are no markers found\n",
    "        cv2.putText(img, \"No markers found.\", (10, 50), cv2.FONT_HERSHEY_SIMPLEX, 2, (0, 255, 0), 2)\n",
    "        # Save the final image\n",
    "        cv2.imwrite(os.path.join(output_dir, f\"marked_{img_name}\"), img)"
   ]
  }
 ],
 "metadata": {
  "kernelspec": {
   "display_name": "Python 3",
   "language": "python",
   "name": "python3"
  },
  "language_info": {
   "codemirror_mode": {
    "name": "ipython",
    "version": 3
   },
   "file_extension": ".py",
   "mimetype": "text/x-python",
   "name": "python",
   "nbconvert_exporter": "python",
   "pygments_lexer": "ipython3",
   "version": "3.11.5"
  }
 },
 "nbformat": 4,
 "nbformat_minor": 2
}
